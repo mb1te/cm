{
  "nbformat": 4,
  "nbformat_minor": 0,
  "metadata": {
    "colab": {
      "name": "lab4.ipynb",
      "provenance": [],
      "collapsed_sections": [],
      "authorship_tag": "ABX9TyOHQ7Kh51rNaoP8btU9AD58",
      "include_colab_link": true
    },
    "kernelspec": {
      "name": "python3",
      "display_name": "Python 3"
    }
  },
  "cells": [
    {
      "cell_type": "markdown",
      "metadata": {
        "id": "view-in-github",
        "colab_type": "text"
      },
      "source": [
        "<a href=\"https://colab.research.google.com/github/mb1te/cm/blob/master/lab4.ipynb\" target=\"_parent\"><img src=\"https://colab.research.google.com/assets/colab-badge.svg\" alt=\"Open In Colab\"/></a>"
      ]
    },
    {
      "cell_type": "markdown",
      "metadata": {
        "id": "zScosSHHRZzr"
      },
      "source": [
        "**ЛАБОРАТОРНАЯ РАБОТА 4. ИНТЕРПОЛИРОВАНИЕ СПЛАЙНАМИ.**"
      ]
    },
    {
      "cell_type": "markdown",
      "metadata": {
        "id": "geUA5DQqkk0i"
      },
      "source": [
        "**Приложение к лабораторной работе.** \\\\\r\n",
        "Метод прогонки: \\\\\r\n",
        "Решить контрольную систему, коэффициенты которой \\\\\r\n",
        "$a_j = 1, b_j=-4, c_j = 1, f_j = -12, j = \\overline{1, N - 1};\\\\\r\n",
        "k_1 = -0.25, k_2 = -0.25, m_1 = 2.5, m_2 = 2.5.$ \\\\\r\n",
        "Проверить, что точное решение этой системы: $y_j = 2$."
      ]
    },
    {
      "cell_type": "markdown",
      "metadata": {
        "id": "XBvUVNoRm4wH"
      },
      "source": [
        "Система имеет вид: \\\\\r\n",
        "$\\cases {\r\n",
        " a_j \\cdot y_{j - 1} - c_j \\cdot y_j + b_j \\cdot y_{j + 1} = -f_j \\\\\r\n",
        " y_0 = k_1 \\cdot y_1 + m1 \\\\\r\n",
        " y_N = k_2 \\cdot y_{N - 1} + m_2 \r\n",
        "}$ \\\\\r\n",
        "Решим систему методом прогонки для $N = \\overline{2, 10}$."
      ]
    },
    {
      "cell_type": "code",
      "metadata": {
        "colab": {
          "base_uri": "https://localhost:8080/",
          "height": 0
        },
        "id": "IB5FNpdYodsq",
        "outputId": "7dab7683-1224-42c8-af5f-d203728efe69"
      },
      "source": [
        "a, b, c, f, k1, k2, m1, m2 = 1, 1, -4, -12, -0.25, -0.25, 2.5, 2.5\r\n",
        "for N in range(2, 11):\r\n",
        "  p = [0] * (N + 1)\r\n",
        "  q = [0] * (N + 1)\r\n",
        "  y = [0] * (N + 1)\r\n",
        "  p[1] = k1\r\n",
        "  q[1] = m1\r\n",
        "  for j in range(1, N):\r\n",
        "    p[j + 1] = b / (c - a * p[j])\r\n",
        "    q[j + 1] = (f + a * q[j]) / (c - a * p[j])\r\n",
        "  y[N] = (k2 * q[N] + m2) / (1 - k2 * p[N])\r\n",
        "  for j in range(N - 1, -1, -1):\r\n",
        "    y[j] = p[j + 1] * y[j + 1] + q[j + 1]\r\n",
        "  print(f'N = {N}:', y)\r\n",
        " # print(f'p = {p}', f'q = {q}')\r\n"
      ],
      "execution_count": 37,
      "outputs": [
        {
          "output_type": "stream",
          "text": [
            "N = 2: [2.0, 2.0, 2.0]\n",
            "N = 3: [2.0, 2.0, 2.0, 2.0]\n",
            "N = 4: [2.0, 2.0, 2.0, 2.0, 2.0]\n",
            "N = 5: [2.0, 2.0, 2.0, 2.0, 2.0, 2.0]\n",
            "N = 6: [2.0, 2.0, 2.0, 2.0, 2.0, 2.0, 2.0]\n",
            "N = 7: [2.0, 2.0, 2.0, 2.0, 2.0, 2.0, 2.0, 2.0]\n",
            "N = 8: [2.0, 2.0, 2.0, 2.0, 2.0, 2.0, 2.0, 2.0, 1.9999999999999998]\n",
            "N = 9: [2.0, 2.0, 2.0, 2.0, 2.0, 2.0, 2.0, 2.0, 1.9999999999999996, 2.0]\n",
            "N = 10: [2.0, 2.0, 2.0, 2.0, 2.0, 2.0, 2.0, 2.0, 1.9999999999999996, 2.0, 2.0]\n"
          ],
          "name": "stdout"
        }
      ]
    },
    {
      "cell_type": "markdown",
      "metadata": {
        "id": "QX1sTurDvFE1"
      },
      "source": [
        "Как мы видим решения системы равны 2."
      ]
    },
    {
      "cell_type": "markdown",
      "metadata": {
        "id": "40Dbt8ueSF3E"
      },
      "source": [
        "**Задание к лабораторной работе:**"
      ]
    },
    {
      "cell_type": "markdown",
      "metadata": {
        "id": "HKY_F8oRSQiu"
      },
      "source": [
        "1) Показать, что задавая значения производных в концевых точках, получаем кубический сплайн, который проходит через произвольно расположенные точки."
      ]
    },
    {
      "cell_type": "markdown",
      "metadata": {
        "id": "wWSDNkkDvJ69"
      },
      "source": [
        "Система, задающая кубический сплайн используя значения  производных в концевых точках: \\\\\r\n",
        "$\r\n",
        "\\cases {\r\n",
        "  h_i \\cdot s_{i - 1} + 2 (h_i + h_{i + 1}) \\cdot s_i + h_{i + 1} \\cdot\r\n",
        "  s_{i + 1} = 6 \\left( \\frac{y_{i + 1} - y_i}{h_{i + 1}} - \\frac{y_i - y_{i - 1}}{h_i}\\right)\\\\\r\n",
        "  s_0 = -\\frac{s_1}{2} + \\frac{3}{h_1^2} \\cdot (y_1 - y_0) - \\frac{3g_0}{h_1}\\\\\r\n",
        "  s_n = - \\frac{s_{n - 1}}{2} - \\frac{3}{h_n^2} \\cdot (y_n - y_{n - 1}) + \r\n",
        "  \\frac{3g_n}{h_n}\\\\\r\n",
        "  s_0'(x_0) = g_0 \\\\\r\n",
        "  s_{n - 1}'(x_n) = g_n\r\n",
        "}\r\n",
        "$"
      ]
    },
    {
      "cell_type": "markdown",
      "metadata": {
        "id": "-36LTgr3x1Pn"
      },
      "source": [
        "Сгенерируем 20 точек в $[-1, 1]$ с ординатами в $[0, 1]$:"
      ]
    },
    {
      "cell_type": "code",
      "metadata": {
        "colab": {
          "base_uri": "https://localhost:8080/",
          "height": 0
        },
        "id": "TfAvF-XbvJeI",
        "outputId": "87f4129a-fd86-41d0-e830-9d116f207430"
      },
      "source": [
        "import numpy as np\r\n",
        "import matplotlib.pyplot as plt\r\n",
        "\r\n",
        "x_space = np.linspace(-1, 1, 21)\r\n",
        "y = np.random.random(21)\r\n",
        "x_space, y"
      ],
      "execution_count": 42,
      "outputs": [
        {
          "output_type": "execute_result",
          "data": {
            "text/plain": [
              "(array([-1. , -0.9, -0.8, -0.7, -0.6, -0.5, -0.4, -0.3, -0.2, -0.1,  0. ,\n",
              "         0.1,  0.2,  0.3,  0.4,  0.5,  0.6,  0.7,  0.8,  0.9,  1. ]),\n",
              " array([0.07281826, 0.5951228 , 0.69292437, 0.8976379 , 0.67384697,\n",
              "        0.28256642, 0.09250493, 0.56491879, 0.69737057, 0.01638621,\n",
              "        0.62675886, 0.68669328, 0.90638294, 0.23336464, 0.54986324,\n",
              "        0.52338945, 0.72076926, 0.83024107, 0.22133303, 0.42629749,\n",
              "        0.23190286]))"
            ]
          },
          "metadata": {
            "tags": []
          },
          "execution_count": 42
        }
      ]
    },
    {
      "cell_type": "markdown",
      "metadata": {
        "id": "v0R_7aFoywzb"
      },
      "source": [
        "Зададим разные значения производных у сплайнов"
      ]
    },
    {
      "cell_type": "code",
      "metadata": {
        "id": "OxTaj6mCRCYc",
        "colab": {
          "base_uri": "https://localhost:8080/",
          "height": 276
        },
        "outputId": "7450248c-b0c9-4a98-9ce0-c160199ae7ad"
      },
      "source": [
        "plt.plot(x_space, y, label='функция')\r\n",
        "for _ in range(2):\r\n",
        "  g_0 = 1 + _\r\n",
        "  g_n = 1 - _\r\n",
        "  N = 20\r\n",
        "  p = [0] * (N + 1)\r\n",
        "  q = [0] * (N + 1)\r\n",
        "  s = [0] * (N + 1)\r\n",
        "  h = 0.1\r\n",
        "  k1, k2 = -0.5, -0.5\r\n",
        "  m1 = 3 / h**2 * (y[1] - y[0]) - 3 * g_0 / h\r\n",
        "  m2 = -3 / h**2 * (y[N] - y[N - 1]) + 3 * g_n / h\r\n",
        "  a, b, c = h, -4 * h, h\r\n",
        "  p[1] = k1\r\n",
        "  q[1] = m1\r\n",
        "  for j in range(1, N):\r\n",
        "    f = -6 * ((y[j + 1] - y[j]) / h - (y[j] - y[j - 1]) / h)\r\n",
        "    p[j + 1] = b / (c - a * p[j])\r\n",
        "    q[j + 1] = (f + a * q[j]) / (c - a * p[j])\r\n",
        "  s[N] = (k2 * q[N] + m2) / (1 - k2 * p[N])\r\n",
        "  for j in range(N - 1, -1, -1):\r\n",
        "    s[j] = p[j + 1] * s[j + 1] + q[j + 1]\r\n",
        "  plt.plot(x_space, s, label=f'сплайн {_}')\r\n",
        "plt.legend()\r\n",
        "plt.show()\r\n",
        "\r\n"
      ],
      "execution_count": 43,
      "outputs": [
        {
          "output_type": "display_data",
          "data": {
            "image/png": "[encoded data removed]",
            "text/plain": [
              "<Figure size 432x288 with 1 Axes>"
            ]
          },
          "metadata": {
            "tags": [],
            "needs_background": "light"
          }
        }
      ]
    },
    {
      "cell_type": "markdown",
      "metadata": {
        "id": "y9MS9H4xrqew"
      },
      "source": [
        "Слайны совпадают в заданных точках, но сильно отличаются в других точках"
      ]
    },
    {
      "cell_type": "markdown",
      "metadata": {
        "id": "8N7bb5ohr1HU"
      },
      "source": [
        "2) Задайте равномерное разбиение отрезка $[-1,1]$ и произвольные ординаты этих точек в диапазоне от $0$ до $1$. Постройте кубическую сплайн-интерполяцию такой функции. (Использовать квадратичные концы и естественный сплайн.)"
      ]
    },
    {
      "cell_type": "code",
      "metadata": {
        "id": "IJBdubM6zclV",
        "colab": {
          "base_uri": "https://localhost:8080/",
          "height": 0
        },
        "outputId": "118e53cd-2640-4b2c-e04a-0ef722d67e3e"
      },
      "source": [
        "x_space = np.linspace(-1, 1, 21)\r\n",
        "y = np.random.random(21)\r\n",
        "x_space, y"
      ],
      "execution_count": 40,
      "outputs": [
        {
          "output_type": "execute_result",
          "data": {
            "text/plain": [
              "(array([-1. , -0.9, -0.8, -0.7, -0.6, -0.5, -0.4, -0.3, -0.2, -0.1,  0. ,\n",
              "         0.1,  0.2,  0.3,  0.4,  0.5,  0.6,  0.7,  0.8,  0.9,  1. ]),\n",
              " array([0.44441367, 0.87276439, 0.76163865, 0.23529925, 0.14442591,\n",
              "        0.64085586, 0.81522523, 0.51580318, 0.25691418, 0.85220658,\n",
              "        0.08441376, 0.2259506 , 0.07533546, 0.25055568, 0.13865214,\n",
              "        0.50889756, 0.9128484 , 0.65495032, 0.44734702, 0.40095765,\n",
              "        0.55594647]))"
            ]
          },
          "metadata": {
            "tags": []
          },
          "execution_count": 40
        }
      ]
    },
    {
      "cell_type": "code",
      "metadata": {
        "colab": {
          "base_uri": "https://localhost:8080/",
          "height": 265
        },
        "id": "ghufjmFUsH4Y",
        "outputId": "173fc456-c403-4ef2-a75c-45c7db23a08a"
      },
      "source": [
        "plt.plot(x_space, y, label='функция')\r\n",
        "for it in range(2):\r\n",
        "  N = 20\r\n",
        "  p = [0] * (N + 1)\r\n",
        "  q = [0] * (N + 1)\r\n",
        "  s = [0] * (N + 1)\r\n",
        "  h = 0.1\r\n",
        "  if it == 0:\r\n",
        "    k1, k2, m1, m2 = 1, 1, 0, 0\r\n",
        "  else :\r\n",
        "    k1, k2, m1, m2 = 0, 0, 0, 0\r\n",
        "  a, b, c = h + 0.00000001, -4 * h, h\r\n",
        "  p[1] = k1\r\n",
        "  q[1] = m1\r\n",
        "  for j in range(1, N):\r\n",
        "    f = -6 * ((y[j + 1] - y[j]) / h - (y[j] - y[j - 1]) / h)\r\n",
        "    p[j + 1] = b / (c - a * p[j])\r\n",
        "    q[j + 1] = (f + a * q[j]) / (c - a * p[j])\r\n",
        "  s[N] = (k2 * q[N] + m2) / (1 - k2 * p[N])\r\n",
        "  for j in range(N - 1, -1, -1):\r\n",
        "    s[j] = p[j + 1] * s[j + 1] + q[j + 1]\r\n",
        "  if it == 0:\r\n",
        "    plt.plot(x_space, s, label=f'кв. концы')\r\n",
        "  else:\r\n",
        "    plt.plot(x_space, s, label=f'естественный')\r\n",
        "plt.legend()\r\n",
        "plt.show()"
      ],
      "execution_count": 41,
      "outputs": [
        {
          "output_type": "display_data",
          "data": {
            "image/png": "[encoded data removed]",
            "text/plain": [
              "<Figure size 432x288 with 1 Axes>"
            ]
          },
          "metadata": {
            "tags": [],
            "needs_background": "light"
          }
        }
      ]
    },
    {
      "cell_type": "markdown",
      "metadata": {
        "id": "M9JPrkzzvlQ4"
      },
      "source": [
        "Слайны совпадают в заданных точках, но сильно отличаются в других точках"
      ]
    }
  ]
}