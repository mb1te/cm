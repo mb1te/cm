{
  "nbformat": 4,
  "nbformat_minor": 0,
  "metadata": {
    "colab": {
      "name": "Копия блокнота \"lab6.ipynb\"",
      "provenance": [],
      "authorship_tag": "ABX9TyOINWTo7Dgyzxs8CLwQv/Ug",
      "include_colab_link": true
    },
    "kernelspec": {
      "name": "python3",
      "display_name": "Python 3"
    }
  },
  "cells": [
    {
      "cell_type": "markdown",
      "metadata": {
        "id": "view-in-github",
        "colab_type": "text"
      },
      "source": [
        "<a href=\"https://colab.research.google.com/github/mb1te/cm/blob/master/%D0%9A%D0%BE%D0%BF%D0%B8%D1%8F_%D0%B1%D0%BB%D0%BE%D0%BA%D0%BD%D0%BE%D1%82%D0%B0_%22lab6_ipynb%22.ipynb\" target=\"_parent\"><img src=\"https://colab.research.google.com/assets/colab-badge.svg\" alt=\"Open In Colab\"/></a>"
      ]
    },
    {
      "cell_type": "markdown",
      "metadata": {
        "id": "B_wlbAcvl-cG"
      },
      "source": [
        "**ЧИСЛЕННОЕ ИНТЕГРИРОВАНИЕ** \\\\\r\n",
        "**ЛАБОРАТОРНАЯ РАБОТА 6.1 Составные квадратурные формулы.**"
      ]
    },
    {
      "cell_type": "markdown",
      "metadata": {
        "id": "BJhNq8INmP0d"
      },
      "source": [
        "Вариант 2."
      ]
    },
    {
      "cell_type": "markdown",
      "metadata": {
        "id": "aRG9WqznmSDA"
      },
      "source": [
        "1) Составить программу вычисления интеграла с заданной точностью. \\\\\r\n",
        "$\\displaystyle \\int\\limits_0^1 \\frac{(\\cos(x) - 1)}{x} dx \\approx -0.2398117420005647259..$"
      ]
    },
    {
      "cell_type": "code",
      "metadata": {
        "id": "bOd_PnmZk9QZ"
      },
      "source": [
        "import numpy as np\r\n",
        "def f(x):\r\n",
        "  return (np.cos(x) - 1) / x"
      ],
      "execution_count": null,
      "outputs": []
    },
    {
      "cell_type": "code",
      "metadata": {
        "id": "MrfGia_IorHX"
      },
      "source": [
        "eps = 10**(-30)\r\n",
        "def central_rectangles(a, b, n = 100):\r\n",
        "  a += eps\r\n",
        "  b -= eps\r\n",
        "  h = (b - a) / n\r\n",
        "  ans = 0\r\n",
        "  for i in range(n):\r\n",
        "    xi = a + i*h\r\n",
        "    ans += h * f(xi + h / 2)\r\n",
        "  return ans\r\n",
        "\r\n",
        "def trapecium(a, b, n = 100):\r\n",
        "  a += eps\r\n",
        "  b -= eps\r\n",
        "  h = (b - a) / n\r\n",
        "  ans = (f(a) + f(b)) / 2\r\n",
        "  for i in range(1, n):\r\n",
        "    xi = a + i * h\r\n",
        "    ans += f(xi)\r\n",
        "  return h * ans\r\n",
        "\r\n",
        "def simpson(a, b, n = 100):\r\n",
        "  a += eps\r\n",
        "  b -= eps\r\n",
        "  h = (b - a) / (2 * n)\r\n",
        "  ans = f(a) + f(b)\r\n",
        "  for i in range(1, n + 1):\r\n",
        "    xi = a + (2 * i - 1) * h\r\n",
        "    ans += 4 * f(xi)\r\n",
        "  for i in range(1, n):\r\n",
        "    xi = a + 2 * i * h\r\n",
        "    ans += 2 * f(xi)\r\n",
        "  return ans * h / 3\r\n",
        "\r\n"
      ],
      "execution_count": null,
      "outputs": []
    },
    {
      "cell_type": "code",
      "metadata": {
        "colab": {
          "base_uri": "https://localhost:8080/"
        },
        "id": "wgAiRKNupNcY",
        "outputId": "36c3296f-5418-49b1-c7ab-34203cba8cff"
      },
      "source": [
        "print(\"Ответ:                               −0.2398117420005647259..\")\r\n",
        "print(\"Формула центральных прямоугольников:\", central_rectangles(0, 1))\r\n",
        "print(\"Формула трапеций:                   \", trapecium(0, 1))\r\n",
        "print(\"Формула Симпсона:                   \",simpson(0, 1))"
      ],
      "execution_count": null,
      "outputs": [
        {
          "output_type": "stream",
          "text": [
            "Ответ:                               −0.2398117420005647259..\n",
            "Формула центральных прямоугольников: -0.23981223461280465\n",
            "Формула трапеций:                    -0.2398107567769\n",
            "Формула Симпсона:                    -0.23981174200083646\n"
          ],
          "name": "stdout"
        }
      ]
    },
    {
      "cell_type": "markdown",
      "metadata": {
        "id": "4YQ0zf87sN_G"
      },
      "source": [
        "Самый точный результат показала формула Симпсона"
      ]
    },
    {
      "cell_type": "markdown",
      "metadata": {
        "id": "kKZ_smx8tIaY"
      },
      "source": [
        "2) Вычислить функцию, используя составленную программу. \\\\\r\n",
        "Функция Френеля: $\\displaystyle F(x) = \\frac{1}{\\sqrt{2\\pi}} \\int\\limits_0^x \\frac{\\sin t}{\\sqrt{t}}dt, x \\in [1; 10]$"
      ]
    },
    {
      "cell_type": "code",
      "metadata": {
        "colab": {
          "base_uri": "https://localhost:8080/"
        },
        "id": "o4vbn38upPiz",
        "outputId": "d0a29659-b677-433f-c915-ca20617ab5b1"
      },
      "source": [
        "def f(x):\r\n",
        "  return np.sin(x) / np.sqrt(x)\r\n",
        "\r\n",
        "for i in range(1, 11):\r\n",
        "  print(f\"i = {i}\")\r\n",
        "  print(\"Формула центральных прямоугольников:\", central_rectangles(0, i))\r\n",
        "  print(\"Формула трапеций:                   \", trapecium(0, i))\r\n",
        "  print(\"Формула Симпсона:                   \",simpson(0, i))"
      ],
      "execution_count": null,
      "outputs": [
        {
          "output_type": "stream",
          "text": [
            "i = 1\n",
            "Формула центральных прямоугольников: 0.6205969938385155\n",
            "Формула трапеций:                    0.6203297134649506\n",
            "Формула Симпсона:                    0.6205079003806605\n",
            "i = 2\n",
            "Формула центральных прямоугольников: 1.41103278608134\n",
            "Формула трапеций:                    1.410249823194068\n",
            "Формула Симпсона:                    1.4107717984522499\n",
            "i = 3\n",
            "Формула центральных прямоугольников: 1.7842681326514258\n",
            "Формула трапеций:                    1.7828056957425975\n",
            "Формула Симпсона:                    1.7837806536818175\n",
            "i = 4\n",
            "Формула центральных прямоугольников: 1.6100587366139658\n",
            "Формула трапеций:                    1.6078526006302725\n",
            "Формула Симпсона:                    1.609323357952734\n",
            "i = 5\n",
            "Формула центральных прямоугольников: 1.1686052332606056\n",
            "Формула трапеций:                    1.1656532167636275\n",
            "Формула Симпсона:                    1.1676212277616127\n",
            "i = 6\n",
            "Формула центральных прямоугольников: 0.8777845365159619\n",
            "Формула трапеций:                    0.8740149200265096\n",
            "Формула Симпсона:                    0.8765279976861438\n",
            "i = 7\n",
            "Формула центральных прямоугольников: 0.9565860606833966\n",
            "Формула трапеций:                    0.9517717295456993\n",
            "Формула Симпсона:                    0.954981283637497\n",
            "i = 8\n",
            "Формула центральных прямоугольников: 1.2848152578793202\n",
            "Формула трапеций:                    1.2786745507138582\n",
            "Формула Симпсона:                    1.2827683554908333\n",
            "i = 9\n",
            "Формула центральных прямоугольников: 1.5488744012061302\n",
            "Формула трапеций:                    1.5413016304690088\n",
            "Формула Симпсона:                    1.5463501442937575\n",
            "i = 10\n",
            "Формула центральных прямоугольников: 1.5271563639933403\n",
            "Формула трапеций:                    1.5183351625232697\n",
            "Формула Симпсона:                    1.5242159635033181\n"
          ],
          "name": "stdout"
        }
      ]
    },
    {
      "cell_type": "markdown",
      "metadata": {
        "id": "FzuNaV7xuyCo"
      },
      "source": [
        "**ЛАБОРАТОРНАЯ РАБОТА 6.2 Интегрирование квадратурными формулами Ньютона-Котеса.**"
      ]
    },
    {
      "cell_type": "markdown",
      "metadata": {
        "id": "vnC6-Lb-vmJY"
      },
      "source": [
        "Составить программу вычисления определённого интеграла: \\\\\r\n",
        "$\\displaystyle \\int \\limits_0^{\\pi / 2} \\frac{\\cos x}{1 + x} dx$ \\\\\r\n",
        "Для проверки работы программы вычислять определенный интеграл параллельно с помощью простейших формул интегрирования из первой части этой лабораторной работы. Для вычислений по формулам Ньютона - Котеса $n = 3, 4, 5, 6, 7$; по остальным формулам значение $n$ варьировать: $10, 20, 50, 100$."
      ]
    },
    {
      "cell_type": "code",
      "metadata": {
        "id": "KpJKQ5zuug5c"
      },
      "source": [
        "def f(x):\r\n",
        "  return np.cos(x) / (1 + x)"
      ],
      "execution_count": null,
      "outputs": []
    },
    {
      "cell_type": "code",
      "metadata": {
        "colab": {
          "base_uri": "https://localhost:8080/"
        },
        "id": "TOqbEryDwiPr",
        "outputId": "b48258a2-81f9-4410-d9ad-ac58b46b3db9"
      },
      "source": [
        "for n in [10, 20, 50, 100]:\r\n",
        "  print(f\"n = {n}\")\r\n",
        "  print(\"Формула центральных прямоугольников:\", central_rectangles(0, np.pi / 2, n))\r\n",
        "  print(\"Формула трапеций:                   \", trapecium(0, np.pi / 2, n))\r\n",
        "  print(\"Формула Симпсона:                   \",simpson(0, np.pi / 2, n))"
      ],
      "execution_count": null,
      "outputs": [
        {
          "output_type": "stream",
          "text": [
            "n = 10\n",
            "Формула центральных прямоугольников: 0.6729951356775539\n",
            "Формула трапеций:                    0.6748749095544018\n",
            "Формула Симпсона:                    0.6736217269698365\n",
            "n = 20\n",
            "Формула центральных прямоугольников: 0.6734641911278991\n",
            "Формула трапеций:                    0.673935022615978\n",
            "Формула Симпсона:                    0.6736211349572586\n",
            "n = 50\n",
            "Формула центральных прямоугольников: 0.6735959715915081\n",
            "Формула трапеций:                    0.6736713449067366\n",
            "Формула Симпсона:                    0.6736210960299173\n",
            "n = 100\n",
            "Формула центральных прямоугольников: 0.6736148134773239\n",
            "Формула трапеций:                    0.6736336582491224\n",
            "Формула Симпсона:                    0.6736210950679232\n"
          ],
          "name": "stdout"
        }
      ]
    },
    {
      "cell_type": "code",
      "metadata": {
        "id": "Oo3wEIN_wwgT"
      },
      "source": [
        "H = [\r\n",
        "     [0],\r\n",
        "     [1/2, 1/2],\r\n",
        "     [1/6, 4/6, 1/6],\r\n",
        "     [1/8, 3/8, 3/8, 1/8],\r\n",
        "     [7/90, 32/90, 12/90, 32/90, 7/90],\r\n",
        "     [19/288, 75/288, 50/288, 50/288, 75/288, 19/288],\r\n",
        "     [41/840, 9/35, 9/280, 34/105, 9/280, 9/35, 41/840],\r\n",
        "     [751/17280, 3577/17280, 1323/17280, 2989/17280, 2989/17280, 1323/17280, 3577/17280, 751/17280]\r\n",
        "]\r\n",
        "\r\n",
        "def newton_cotes(a, b, n = 100):\r\n",
        "  a += eps\r\n",
        "  b -= eps\r\n",
        "  h = (b - a) / n\r\n",
        "  ans = 0\r\n",
        "  for i in range(0, n + 1):\r\n",
        "    xi = a + i * h\r\n",
        "    ans += H[n][i] * f(xi)\r\n",
        "  return (b - a) * ans"
      ],
      "execution_count": null,
      "outputs": []
    },
    {
      "cell_type": "code",
      "metadata": {
        "colab": {
          "base_uri": "https://localhost:8080/"
        },
        "id": "ylbIB3qS3lml",
        "outputId": "ad9db0eb-4483-4372-b1ca-2c9510a19766"
      },
      "source": [
        "for n in [3, 4, 5, 6, 7]:\r\n",
        "  print(f\"n = {n}\")\r\n",
        "  print(\"Формула Ньютона-Котеса: \", newton_cotes(0, np.pi / 2, n))"
      ],
      "execution_count": null,
      "outputs": [
        {
          "output_type": "stream",
          "text": [
            "n = 3\n",
            "Формула Ньютона-Котеса:  0.67503643203685\n",
            "n = 4\n",
            "Формула Ньютона-Котеса:  0.6737464252343194\n",
            "n = 5\n",
            "Формула Ньютона-Котеса:  0.6736950150752685\n",
            "n = 6\n",
            "Формула Ньютона-Котеса:  0.6736283189076623\n",
            "n = 7\n",
            "Формула Ньютона-Котеса:  0.6736257050724141\n"
          ],
          "name": "stdout"
        }
      ]
    },
    {
      "cell_type": "code",
      "metadata": {
        "id": "pO2npYao3sdb"
      },
      "source": [
        ""
      ],
      "execution_count": null,
      "outputs": []
    }
  ]
}