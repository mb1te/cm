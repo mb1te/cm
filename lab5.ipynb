{
  "nbformat": 4,
  "nbformat_minor": 0,
  "metadata": {
    "colab": {
      "name": "lab5.ipynb",
      "provenance": [],
      "authorship_tag": "ABX9TyMo4TC0FTM1REKK9CAonkiX",
      "include_colab_link": true
    },
    "kernelspec": {
      "name": "python3",
      "display_name": "Python 3"
    }
  },
  "cells": [
    {
      "cell_type": "markdown",
      "metadata": {
        "id": "view-in-github",
        "colab_type": "text"
      },
      "source": [
        "<a href=\"https://colab.research.google.com/github/mb1te/cm/blob/master/lab5.ipynb\" target=\"_parent\"><img src=\"https://colab.research.google.com/assets/colab-badge.svg\" alt=\"Open In Colab\"/></a>"
      ]
    },
    {
      "cell_type": "markdown",
      "metadata": {
        "id": "f6f9kL36wD5T"
      },
      "source": [
        "**ЛАБОРАТОРНАЯ РАБОТА 5. СРЕДНЕКВАДРАТИЧЕСКОЕ ПРИБЛИЖЕНИЕ ФУНКЦИЙ. МЕТОД НАИМЕНЬШИХ КВАДРАТОВ (МНК)**"
      ]
    },
    {
      "cell_type": "markdown",
      "metadata": {
        "id": "7A9-tKd_xjS_"
      },
      "source": [
        "**Задание. По любому произвольно задаваемому набору точек построить среднеквадратическое приближение методом наименьших квадратов для следующих функций:**\r\n",
        "\r\n",
        "1. линейные функции $y=a_0+a_1 x$\r\n",
        "\r\n",
        "2. квадратичные функции $y=a_0+a_1 x+a_2 x^2$ \r\n",
        "\r\n",
        "3. степенные функции $y=a x^b$\r\n",
        "\r\n",
        "Очевидно, что график аппроксимирующей функции должен находиться внутри выпуклой оболочки, образованной точками.\r\n",
        "\r\n",
        "Для каждого рассматриваемого набора точек, определять в каком случае приближение оптимально. Оптимальность характеризуется минимумом стандартного среднеквадратического отклонения."
      ]
    },
    {
      "cell_type": "markdown",
      "metadata": {
        "id": "xIRLIvM44Iqt"
      },
      "source": [
        "Сгенерируем точки"
      ]
    },
    {
      "cell_type": "code",
      "metadata": {
        "id": "aBx9Xo5bwC1k"
      },
      "source": [
        "import numpy as np\r\n",
        "import matplotlib.pyplot as plt"
      ],
      "execution_count": 1,
      "outputs": []
    },
    {
      "cell_type": "code",
      "metadata": {
        "colab": {
          "base_uri": "https://localhost:8080/",
          "height": 0
        },
        "id": "qCIec2v0x6s3",
        "outputId": "64b50ad9-8ce8-48dc-fe4a-a5dcb2bf067c"
      },
      "source": [
        "n = 10\r\n",
        "x = 100 * np.random.random(n)\r\n",
        "y = 20 * np.random.random(n)\r\n",
        "x, y"
      ],
      "execution_count": 56,
      "outputs": [
        {
          "output_type": "execute_result",
          "data": {
            "text/plain": [
              "(array([90.40180546, 81.56100633, 38.78710289, 58.01807854, 24.19660868,\n",
              "         5.92188524, 54.97537396, 71.6743603 , 93.12893381, 73.10509938]),\n",
              " array([ 2.42807308,  5.22852756,  4.61493084,  5.86484859, 18.28596899,\n",
              "         6.71159255,  8.3935385 ,  4.82239316, 12.38267843,  6.2470588 ]))"
            ]
          },
          "metadata": {
            "tags": []
          },
          "execution_count": 56
        }
      ]
    },
    {
      "cell_type": "markdown",
      "metadata": {
        "id": "Ps70ndg84LH4"
      },
      "source": [
        "1) Линейная аппроксимация"
      ]
    },
    {
      "cell_type": "markdown",
      "metadata": {
        "id": "JjIMjB_f4NCH"
      },
      "source": [
        "$\r\n",
        "\\cases {\r\n",
        "  a_0 n + a_1 \\sum\\limits_{i = 1}^n x_i = \\sum\\limits_{i = 1}^n y_i\\\\\r\n",
        "  a_0 \\sum\\limits_{i = 1}^n x_i + a_1 \\sum\\limits_{i = 1}^n x_i^2 = \\sum\\limits_{i = 1}^nx_i y_i\r\n",
        "}\r\n",
        "$"
      ]
    },
    {
      "cell_type": "code",
      "metadata": {
        "colab": {
          "base_uri": "https://localhost:8080/",
          "height": 265
        },
        "id": "IHK-HBruyEAm",
        "outputId": "04768d02-40e1-4d7f-af76-3a6560951578"
      },
      "source": [
        "xi = sum(x)\r\n",
        "yi = sum(y)\r\n",
        "xy = sum(x*y)\r\n",
        "x2 = sum(x*x)\r\n",
        "left = np.array([[n, xi], [xi, x2]])\r\n",
        "right = np.array([yi, xy])\r\n",
        "solved = np.linalg.solve(left, right)\r\n",
        "x_space = np.linspace(1, 100, 200)\r\n",
        "y_space = [solved[0] + solved[1] * i for i in x_space]\r\n",
        "plt.plot(x, y, \"o\")\r\n",
        "plt.plot(x_space, y_space)\r\n",
        "plt.show()"
      ],
      "execution_count": 57,
      "outputs": [
        {
          "output_type": "display_data",
          "data": {
            "image/png": "[encoded data removed]",
            "text/plain": [
              "<Figure size 432x288 with 1 Axes>"
            ]
          },
          "metadata": {
            "tags": [],
            "needs_background": "light"
          }
        }
      ]
    },
    {
      "cell_type": "markdown",
      "metadata": {
        "id": "xcQH0HwK4gdf"
      },
      "source": [
        "2) Квадратичная аппроксимация\r\n"
      ]
    },
    {
      "cell_type": "markdown",
      "metadata": {
        "id": "Ndh5waB94yPC"
      },
      "source": [
        "$\r\n",
        "\\cases{\r\n",
        "  a_0 + a_1 \\sum\\limits_{i = 1}^n x_i + a_2 \\sum\\limits_{i = 1}^n x_i^2 = \\sum\\limits_{i = 1}^n y_i\\\\\r\n",
        "  a_0 \\sum\\limits_{i = 1}^n x_i + a_1 \\sum\\limits_{i = 1}^n x_i^2 + a_2 \\sum\\limits_{i = 1}^n x_i^3 = \\sum\\limits_{i = 1}^n y_i x_i\\\\\r\n",
        "  a_0 \\sum\\limits_{i = 1}^n x_i^2 + a_1 \\sum\\limits_{i = 1}^n x_i^3 + a_2 \\sum\\limits_{i = 1}^n x_i^4 = \\sum\\limits_{i = 1}^n y_i x_i^2\r\n",
        "}\r\n",
        "$"
      ]
    },
    {
      "cell_type": "code",
      "metadata": {
        "colab": {
          "base_uri": "https://localhost:8080/",
          "height": 265
        },
        "id": "pQSbqy1Q4xtT",
        "outputId": "7646a3f7-f344-42ce-9f67-c1dc8c120e10"
      },
      "source": [
        "xi = sum(x)\r\n",
        "yi = sum(y)\r\n",
        "xy = sum(x*y)\r\n",
        "x2 = sum(x*x)\r\n",
        "x3 = sum(x*x*x)\r\n",
        "x4 = sum(x*x*x*x)\r\n",
        "yx2 = sum(y*x*x)\r\n",
        "\r\n",
        "left = np.array([[n, xi, x2], [xi, x2, x3], [x2, x3, x4]])\r\n",
        "right = np.array([yi, xy, yx2])\r\n",
        "solved = np.linalg.solve(left, right)\r\n",
        "x_space = np.linspace(1, 100, 200)\r\n",
        "y_space = [solved[0] + solved[1] * i + solved[2] * i**2 for i in x_space]\r\n",
        "plt.plot(x, y, \"o\")\r\n",
        "plt.plot(x_space, y_space)\r\n",
        "plt.show()"
      ],
      "execution_count": 58,
      "outputs": [
        {
          "output_type": "display_data",
          "data": {
            "image/png": "[encoded data removed]",
            "text/plain": [
              "<Figure size 432x288 with 1 Axes>"
            ]
          },
          "metadata": {
            "tags": [],
            "needs_background": "light"
          }
        }
      ]
    },
    {
      "cell_type": "markdown",
      "metadata": {
        "id": "5bSTxkAl-7Yb"
      },
      "source": [
        "3) Степенная аппроксимация $y = a x^b$."
      ]
    },
    {
      "cell_type": "markdown",
      "metadata": {
        "id": "1jdewNruDX_W"
      },
      "source": [
        "$\r\n",
        "\\cases {\r\n",
        "  n\\ln(a) + b \\sum\\limits_{i = 1}^n \\ln(x_i) = \\sum\\limits_{i = 1}^n \\ln(y_i)\\\\\r\n",
        "  \\ln(a) \\sum\\limits_{i = 1}^n \\ln(x_i) + b \\sum\\limits_{i = 1}^n \\left(\\ln(x_i)\\right)^2 = \\sum\\limits_{i = 1}^n \\ln(y_i)\\ln(x_i)\r\n",
        "}\r\n",
        "$"
      ]
    },
    {
      "cell_type": "markdown",
      "metadata": {
        "id": "aybU6eXfe_lH"
      },
      "source": [
        "Решив систему аналитическим путем получаем следующие a и b: \\\\\r\n",
        "$\\displaystyle\r\n",
        "\\ln(a) = \\frac{\\sum \\limits_{i = 1}^n \\ln(y_i) \\cdot \\sum \\limits_{i = 1}^n (\\ln(x_i))^2 - \\sum \\limits_{i = 1}^n \\ln(y_i)\\ln(x_i) \\cdot \\sum \\limits_{i = 1}^n \\ln(x_i)}{n \\sum \\limits_{i = 1}^n (\\ln(x_i))^2 - \\left(\\sum \\limits_{i = 1}^n \\ln(x_i)\\right)^2} \\\\\r\n",
        "\\displaystyle\r\n",
        "b = \\frac{n \\sum \\limits_{i = 1}^n \\ln(y_i)\\ln(x_i) - \\sum \\limits_{i = 1}^n \\ln(y_i) \\cdot \\sum \\limits_{i = 1}^n ln(x_i)}{n \\sum \\limits_{i = 1}^n (\\ln(x_i))^2 - \\left(\\sum \\limits_{i = 1}^n \\ln(x_i)\\right)^2}\r\n",
        "$"
      ]
    },
    {
      "cell_type": "code",
      "metadata": {
        "colab": {
          "base_uri": "https://localhost:8080/",
          "height": 281
        },
        "id": "HODbYf4i5sRO",
        "outputId": "584309e3-0e25-44a5-85cb-88bfb550bd8d"
      },
      "source": [
        "ln_x = np.log(x)\r\n",
        "ln_y = np.log(y)\r\n",
        "ln_y_ln_x = ln_x * ln_y\r\n",
        "ln_x2 = np.log(x)**2\r\n",
        "\r\n",
        "ln_a = (sum(ln_y) * sum(ln_x2) - sum(ln_y_ln_x) * sum(ln_x)) / (n * sum(ln_x2) - sum(ln_x)**2)\r\n",
        "a = np.exp(ln_a)\r\n",
        "b = (n * sum(ln_y_ln_x) - sum(ln_y) * sum(ln_x)) / (n * sum(ln_x2) - sum(ln_x)**2)\r\n",
        "\r\n",
        "x_space = np.linspace(1, 100, 200)\r\n",
        "y_space = [a * i**b for i in x_space]\r\n",
        "plt.plot(x, y, \"o\")\r\n",
        "plt.plot(x_space, y_space)\r\n",
        "plt.show()\r\n",
        "print(a, b)"
      ],
      "execution_count": 59,
      "outputs": [
        {
          "output_type": "display_data",
          "data": {
            "image/png": "[encoded data removed]",
            "text/plain": [
              "<Figure size 432x288 with 1 Axes>"
            ]
          },
          "metadata": {
            "tags": [],
            "needs_background": "light"
          }
        },
        {
          "output_type": "stream",
          "text": [
            "12.879213963533509 -0.17722368697412783\n"
          ],
          "name": "stdout"
        }
      ]
    }
  ]
}