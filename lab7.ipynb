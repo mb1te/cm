{
  "nbformat": 4,
  "nbformat_minor": 0,
  "metadata": {
    "colab": {
      "name": "lab7.ipynb",
      "provenance": [],
      "collapsed_sections": [],
      "authorship_tag": "ABX9TyPK7Qgo9LM/pjjl3aKS0uwx",
      "include_colab_link": true
    },
    "kernelspec": {
      "name": "python3",
      "display_name": "Python 3"
    },
    "language_info": {
      "name": "python"
    }
  },
  "cells": [
    {
      "cell_type": "markdown",
      "metadata": {
        "id": "view-in-github",
        "colab_type": "text"
      },
      "source": [
        "<a href=\"https://colab.research.google.com/github/mb1te/cm/blob/master/lab7.ipynb\" target=\"_parent\"><img src=\"https://colab.research.google.com/assets/colab-badge.svg\" alt=\"Open In Colab\"/></a>"
      ]
    },
    {
      "cell_type": "markdown",
      "metadata": {
        "id": "y_SoOTAXFIWV"
      },
      "source": [
        "**ЛАБОРАТОРНАЯ РАБОТА 7** \\\\\n",
        "**МЕТОД ГАУССА РЕШЕНИЯ СИСТЕМЫ ЛИНЕЙНЫХ АЛГЕБРАИЧЕСКИХ УРАВНЕНИЙ**"
      ]
    },
    {
      "cell_type": "markdown",
      "metadata": {
        "id": "AwGEXgT5FkXq"
      },
      "source": [
        "*Требуется* найти решение линейной системы $Ax = b$."
      ]
    },
    {
      "cell_type": "markdown",
      "metadata": {
        "id": "nBg4nka0Fmh6"
      },
      "source": [
        "$A = \\begin{pmatrix}\n",
        " 2 & 1 & -1\\\\\n",
        " -1 & -1 & 2\\\\\n",
        " -2 & 1 & 2\\\\\n",
        "\\end{pmatrix}, \\,\n",
        "b = \\begin{pmatrix}\n",
        "1\\\\\n",
        "2\\\\\n",
        "1\\\\\n",
        "\\end{pmatrix}\n",
        "$"
      ]
    },
    {
      "cell_type": "code",
      "metadata": {
        "id": "Rb42VUw1EhMT"
      },
      "source": [
        "A = [[2, 1, -1], [-1, -1, 2], [-2, 1, 2]]\n",
        "b = [[1], [2], [1]]"
      ],
      "execution_count": null,
      "outputs": []
    },
    {
      "cell_type": "markdown",
      "metadata": {
        "id": "n1eLYB36IASK"
      },
      "source": [
        "Прямой метод Гаусса решения СЛАУ"
      ]
    },
    {
      "cell_type": "code",
      "metadata": {
        "id": "m2Avz9KHGaYv"
      },
      "source": [
        "def gauss(A):\n",
        "    n = len(A)\n",
        "    for i in range(0, n):\n",
        "        maxEl = abs(A[i][i])\n",
        "        maxRow = i\n",
        "        for k in range(i + 1, n):\n",
        "            if abs(A[k][i]) > maxEl:\n",
        "                maxEl = abs(A[k][i])\n",
        "                maxRow = k\n",
        "        A[maxRow], A[i] = A[i], A[maxRow]\n",
        "        for k in range(i + 1, n):\n",
        "            c = -A[k][i] / A[i][i]\n",
        "            for j in range(i, n + 1):\n",
        "                if i == j:\n",
        "                    A[k][j] = 0\n",
        "                else:\n",
        "                    A[k][j] += c * A[i][j]\n",
        "        x = [0 for i in range(n)]\n",
        "    for i in range(n - 1, -1, -1):\n",
        "        x[i] = A[i][n] / A[i][i]\n",
        "        for k in range(i - 1, -1, -1):\n",
        "            A[k][n] -= A[k][i] * x[i]\n",
        "    return x"
      ],
      "execution_count": null,
      "outputs": []
    },
    {
      "cell_type": "markdown",
      "metadata": {
        "id": "i2v7XfHGWWJt"
      },
      "source": [
        "Найти обратную матрицу:"
      ]
    },
    {
      "cell_type": "code",
      "metadata": {
        "colab": {
          "base_uri": "https://localhost:8080/"
        },
        "id": "_dMr5vReQuwY",
        "outputId": "2682e1fb-6853-431e-8648-78b95f94c36a"
      },
      "source": [
        "gauss([A[i] + b[i] for i in range(len(A))])"
      ],
      "execution_count": null,
      "outputs": [
        {
          "output_type": "execute_result",
          "data": {
            "text/plain": [
              "[1.2857142857142858, 0.1428571428571429, 1.7142857142857142]"
            ]
          },
          "metadata": {
            "tags": []
          },
          "execution_count": 26
        }
      ]
    },
    {
      "cell_type": "code",
      "metadata": {
        "id": "rSUdd8EgRe8w"
      },
      "source": [
        "def invert(A):\n",
        "  E = [[0] * len(A) for _ in range(len(A))]\n",
        "  for i in range(len(E)):\n",
        "    for j in range(len(E)):\n",
        "      if i == j:\n",
        "        E[i][j] = 1\n",
        "  ans = [[0] * len(A) for _ in range(len(A))]\n",
        "  for it in range(len(A)):\n",
        "    A_E = [A[i] + [E[i][it]] for i in range(len(A))]\n",
        "    tmp = gauss(A_E)\n",
        "    for i in range(len(A)):\n",
        "      ans[i][it] = tmp[i]\n",
        "  return ans   "
      ],
      "execution_count": null,
      "outputs": []
    },
    {
      "cell_type": "code",
      "metadata": {
        "colab": {
          "base_uri": "https://localhost:8080/"
        },
        "id": "7WKN55F9WUa2",
        "outputId": "3462de29-06ea-4eea-fbde-3a530a2c00d9"
      },
      "source": [
        "invert(A)"
      ],
      "execution_count": null,
      "outputs": [
        {
          "output_type": "execute_result",
          "data": {
            "text/plain": [
              "[[0.5714285714285714, 0.42857142857142855, -0.14285714285714288],\n",
              " [0.2857142857142857, -0.2857142857142857, 0.4285714285714286],\n",
              " [0.42857142857142855, 0.5714285714285714, 0.14285714285714285]]"
            ]
          },
          "metadata": {
            "tags": []
          },
          "execution_count": 32
        }
      ]
    },
    {
      "cell_type": "code",
      "metadata": {
        "id": "l61rtGTSWfWJ"
      },
      "source": [
        ""
      ],
      "execution_count": null,
      "outputs": []
    }
  ]
}