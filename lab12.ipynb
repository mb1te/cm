{
  "nbformat": 4,
  "nbformat_minor": 0,
  "metadata": {
    "colab": {
      "name": "lab12.ipynb",
      "provenance": [],
      "authorship_tag": "ABX9TyM1bfDHUB6Xy/zaDo/X5cSk",
      "include_colab_link": true
    },
    "kernelspec": {
      "name": "python3",
      "display_name": "Python 3"
    },
    "language_info": {
      "name": "python"
    }
  },
  "cells": [
    {
      "cell_type": "markdown",
      "metadata": {
        "id": "view-in-github",
        "colab_type": "text"
      },
      "source": [
        "<a href=\"https://colab.research.google.com/github/mb1te/cm/blob/master/lab12.ipynb\" target=\"_parent\"><img src=\"https://colab.research.google.com/assets/colab-badge.svg\" alt=\"Open In Colab\"/></a>"
      ]
    },
    {
      "cell_type": "code",
      "metadata": {
        "id": "msYzqZUOhYSZ"
      },
      "source": [
        "from numpy import zeros, abs\n",
        "\n",
        "def shoot_nonlinear(a,b,alpha, beta, n, eps, M):\n",
        "\n",
        "    w1 = zeros(n+1)  \n",
        "    w2 = zeros(n+1)\n",
        "    h = (b-a)/n\n",
        "    k = 1\n",
        "    TK = (beta - alpha)/(b - a)\n",
        "\n",
        "    print(\"i\"\"  x\" \"     \" \"W1\"\"     \" \"W2\")\n",
        "    while k <= M:\n",
        "\n",
        "        w1[0] = alpha\n",
        "        w2[0] = TK\n",
        "        u1    = 0\n",
        "        u2    = 1\n",
        "\n",
        "        for i in range(1,n+1):\n",
        "            x = a + (i-1)*h     #step 5\n",
        "\n",
        "            t = x + 0.5*(h)\n",
        "\n",
        "            k11 = h*w2[i-1]     #step 6\n",
        "\n",
        "            k12 = h*f(x,w1[i-1],w2[i-1])\n",
        "            k21 = h*(w2[i-1] + (1/2)*k12)\n",
        "            k22 = h*f(t, w1[i-1] + (1/2)*k11, w2[i-1] + (1/2)*k12)\n",
        "            k31 = h*(w2[i-1] + (1/2)*k22)\n",
        "            k32 = h*f(t, w1[i-1] + (1/2)*k21, w2[i-1] + (1/2)*k22)\n",
        "            t   = x + h\n",
        "            k41 = h*(w2[i-1]+k32)\n",
        "            k42 = h*f(t, w1[i-1] + k31, w2[i-1] + k32)\n",
        "            w1[i] = w1[i-1] + (k11 + 2*k21 + 2*k31 + k41)/6\n",
        "            w2[i] = w2[i-1] + (k12 + 2*k22 + 2*k32 + k42)/6   \n",
        "            kp11 = h*u2\n",
        "            kp12 = h*(fy(x,w1[i-1],w2[i-1])*u1 + fyp(x,w1[i-1], w2[i-1])*u2)\n",
        "            t    = x + 0.5*(h)\n",
        "            kp21 = h*(u2 + (1/2)*kp12)\n",
        "            kp22 = h*((fy(t, w1[i-1],w2[i-1])*(u1 + (1/2)*kp11)) + fyp(x+h/2, w1[i-1],w2[i-1])*(u2 +(1/2)*kp12))\n",
        "            kp31 = h*(u2 + (1/2)*kp22)\n",
        "            kp32 = h*((fy(t, w1[i-1],w2[i-1])*(u1 + (1/2)*kp21)) + fyp(x+h/2, w1[i-1],w2[i-1])*(u2 +(1/2)*kp22))\n",
        "            t    = x + h\n",
        "            kp41 = h*(u2 + kp32)\n",
        "            kp42 = h*(fy(t, w1[i-1], w2[i-1])*(u1+kp31) + fyp(x + h, w1[i-1], w2[i-1])*(u2 + kp32))\n",
        "            u1 = u1 + (1/6)*(kp11 + 2*kp21 + 2*kp31 + kp41)\n",
        "            u2 = u2 + (1/6)*(kp12 + 2*kp22 + 2*kp32 + kp42)\n",
        "\n",
        "\n",
        "        r = abs(w1[n] - beta)\n",
        "        #print(r)\n",
        "        if r < eps:\n",
        "            for i in range(0,n+1):\n",
        "                x = a + i*h\n",
        "                print(\"%.2f %.2f %.4f %.4f\" %(i,x,w1[i],w2[i]))\n",
        "            return\n",
        "\n",
        "        TK = TK -(w1[n]-beta)/u1\n",
        "\n",
        "        k = k+1\n",
        "\n",
        "\n",
        "    print(\"Maximum number of iterations exceeded\")   \n",
        "    return"
      ],
      "execution_count": null,
      "outputs": []
    },
    {
      "cell_type": "code",
      "metadata": {
        "colab": {
          "base_uri": "https://localhost:8080/"
        },
        "id": "N-DaleDdhZO8",
        "outputId": "c2c638b5-ff77-4aa8-fd78-f0788b55104e"
      },
      "source": [
        "def f(x,y,yp):\n",
        "  fx = (1/8)*(32 + 2*x**3 -y*yp)\n",
        "  return fx\n",
        "\n",
        "def fy(xp,z,zp):\n",
        "  fyy = -(1/8)*(zp)\n",
        "  return fyy\n",
        "\n",
        "def fyp(xpp,zpp,zppp):\n",
        "  fypp = -(1/8)*(zpp)\n",
        "  return fypp\n",
        "\n",
        "a = 1\n",
        "b = 3\n",
        "alpha = 17\n",
        "beta = 43/3\n",
        "N = 20\n",
        "M = 10\n",
        "eps = 0.00001\n",
        "\n",
        "\n",
        "shoot_nonlinear(a,b,alpha,beta,N,eps,M)"
      ],
      "execution_count": null,
      "outputs": [
        {
          "output_type": "stream",
          "text": [
            "i  x     W1     W2\n",
            "0.00 1.00 17.0000 -14.0002\n",
            "1.00 1.10 15.7555 -11.0233\n",
            "2.00 1.20 14.7734 -8.7113\n",
            "3.00 1.30 13.9978 -6.8676\n",
            "4.00 1.40 13.3886 -5.3634\n",
            "5.00 1.50 12.9167 -4.1112\n",
            "6.00 1.60 12.5600 -3.0501\n",
            "7.00 1.70 12.3018 -2.1364\n",
            "8.00 1.80 12.1289 -1.3384\n",
            "9.00 1.90 12.0311 -0.6322\n",
            "10.00 2.00 12.0000 -0.0001\n",
            "11.00 2.10 12.0291 0.5718\n",
            "12.00 2.20 12.1127 1.0942\n",
            "13.00 2.30 12.2465 1.5754\n",
            "14.00 2.40 12.4267 2.0222\n",
            "15.00 2.50 12.6500 2.4400\n",
            "16.00 2.60 12.9138 2.8331\n",
            "17.00 2.70 13.2159 3.2052\n",
            "18.00 2.80 13.5543 3.5592\n",
            "19.00 2.90 13.9272 3.8975\n",
            "20.00 3.00 14.3333 4.2222\n"
          ],
          "name": "stdout"
        }
      ]
    },
    {
      "cell_type": "code",
      "metadata": {
        "id": "-vKtiMqxh7LL"
      },
      "source": [
        ""
      ],
      "execution_count": null,
      "outputs": []
    }
  ]
}